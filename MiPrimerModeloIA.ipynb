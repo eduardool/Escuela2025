{
  "nbformat": 4,
  "nbformat_minor": 0,
  "metadata": {
    "colab": {
      "provenance": [],
      "authorship_tag": "ABX9TyPV9/RIBmTl3ypoo29Am237",
      "include_colab_link": true
    },
    "kernelspec": {
      "name": "python3",
      "display_name": "Python 3"
    },
    "language_info": {
      "name": "python"
    }
  },
  "cells": [
    {
      "cell_type": "markdown",
      "metadata": {
        "id": "view-in-github",
        "colab_type": "text"
      },
      "source": [
        "<a href=\"https://colab.research.google.com/github/eduardool/Escuela2025/blob/main/MiPrimerModeloIA.ipynb\" target=\"_parent\"><img src=\"https://colab.research.google.com/assets/colab-badge.svg\" alt=\"Open In Colab\"/></a>"
      ]
    },
    {
      "cell_type": "markdown",
      "source": [
        "#**Clasificador de frutas con Inteligencia Artificial**"
      ],
      "metadata": {
        "id": "GLSPWOy2aqjl"
      }
    },
    {
      "cell_type": "markdown",
      "source": [
        "- Clasificador simple usando scikit-learn\n",
        "-  Este código permite entrenar un modelo para clasificar frutas"
      ],
      "metadata": {
        "id": "wXWn_5QAa7jf"
      }
    },
    {
      "cell_type": "markdown",
      "source": [
        "Importar librerias"
      ],
      "metadata": {
        "id": "yaZIyJ6sa4bj"
      }
    },
    {
      "cell_type": "code",
      "source": [
        "import numpy as np\n",
        "from sklearn import tree\n",
        "import matplotlib.pyplot as plt"
      ],
      "metadata": {
        "id": "xzXjqRlFbC11"
      },
      "execution_count": 1,
      "outputs": []
    },
    {
      "cell_type": "markdown",
      "source": [
        "Datros de entrenamiento"
      ],
      "metadata": {
        "id": "PnMAYOlPbFVn"
      }
    },
    {
      "cell_type": "code",
      "source": [
        "# Datos de entrenamiento\n",
        "# [peso en gramos, textura (0=lisa, 1=rugosa)]\n",
        "caracteristicas = [\n",
        "    [150, 0], # manzana\n",
        "    [170, 0], # manzana\n",
        "    [140, 0], # manzana\n",
        "    [130, 1], # naranja\n",
        "    [150, 1], # naranja\n",
        "    [160, 1], # naranja\n",
        "    [80, 0],  # limón\n",
        "    [90, 0],  # limón\n",
        "    [70, 0],  # limón\n",
        "]\n",
        "\n"
      ],
      "metadata": {
        "id": "RY0w5sYcbJTz"
      },
      "execution_count": 2,
      "outputs": []
    },
    {
      "cell_type": "code",
      "source": [
        "# Etiquetas: 0=manzana, 1=naranja, 2=limón\n",
        "etiquetas = [0, 0, 0, 1, 1, 1, 2, 2, 2]\n",
        "\n",
        "# Nombres de las frutas (para visualización)\n",
        "nombres_frutas = [\"Manzana\", \"Naranja\", \"Limón\"]"
      ],
      "metadata": {
        "id": "k3ovbUHubUk1"
      },
      "execution_count": 3,
      "outputs": []
    },
    {
      "cell_type": "markdown",
      "source": [
        "Construcción del Clasificador"
      ],
      "metadata": {
        "id": "HH-SVHC8bdo1"
      }
    },
    {
      "cell_type": "code",
      "source": [
        "# Crear y entrenar el clasificador\n",
        "clasificador = tree.DecisionTreeClassifier()\n",
        "clasificador = clasificador.fit(caracteristicas, etiquetas)"
      ],
      "metadata": {
        "id": "Amt0EWpXbgm_"
      },
      "execution_count": 4,
      "outputs": []
    },
    {
      "cell_type": "markdown",
      "source": [
        "Predicciones\n"
      ],
      "metadata": {
        "id": "lmzPcy6ucZzG"
      }
    },
    {
      "cell_type": "code",
      "source": [
        "# Función para predecir\n",
        "def predecir_fruta(peso, textura):\n",
        "    resultado = clasificador.predict([[peso, textura]])\n",
        "    return nombres_frutas[resultado[0]]\n",
        ""
      ],
      "metadata": {
        "id": "cP9ptcPicYVs"
      },
      "execution_count": 5,
      "outputs": []
    },
    {
      "cell_type": "code",
      "source": [
        "# Ejemplos de predicción\n",
        "print(\"Predicción para fruta de 160g y textura lisa (0):\",\n",
        "      predecir_fruta(160, 0))\n",
        "print(\"Predicción para fruta de 140g y textura rugosa (1):\",\n",
        "      predecir_fruta(140, 1))"
      ],
      "metadata": {
        "colab": {
          "base_uri": "https://localhost:8080/"
        },
        "id": "d-308lnnceX4",
        "outputId": "a40fd364-a5d6-42db-d929-8d919d3b9105"
      },
      "execution_count": 6,
      "outputs": [
        {
          "output_type": "stream",
          "name": "stdout",
          "text": [
            "Predicción para fruta de 160g y textura lisa (0): Manzana\n",
            "Predicción para fruta de 140g y textura rugosa (1): Naranja\n"
          ]
        }
      ]
    },
    {
      "cell_type": "code",
      "source": [
        "# Actividad para estudiantes:\n",
        "# 1. Añadir más datos de entrenamiento\n",
        "# 2. Añadir una nueva característica (por ejemplo, color)\n",
        "# 3. Añadir una nueva fruta para clasificar"
      ],
      "metadata": {
        "id": "d8GedtowcmS7"
      },
      "execution_count": null,
      "outputs": []
    }
  ]
}