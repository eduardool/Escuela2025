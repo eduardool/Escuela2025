{
  "nbformat": 4,
  "nbformat_minor": 0,
  "metadata": {
    "colab": {
      "provenance": [],
      "authorship_tag": "ABX9TyNvAQj7Q8NZQcAsd/qmLHF7",
      "include_colab_link": true
    },
    "kernelspec": {
      "name": "python3",
      "display_name": "Python 3"
    },
    "language_info": {
      "name": "python"
    }
  },
  "cells": [
    {
      "cell_type": "markdown",
      "metadata": {
        "id": "view-in-github",
        "colab_type": "text"
      },
      "source": [
        "<a href=\"https://colab.research.google.com/github/eduardool/Escuela2025/blob/main/PromptEngineering.ipynb\" target=\"_parent\"><img src=\"https://colab.research.google.com/assets/colab-badge.svg\" alt=\"Open In Colab\"/></a>"
      ]
    },
    {
      "cell_type": "markdown",
      "source": [
        "# **Prompt Engineering**"
      ],
      "metadata": {
        "id": "HszH9wOI1zIz"
      }
    },
    {
      "cell_type": "markdown",
      "source": [
        "**Para obtener resultados útiles:**\n",
        "\n",
        "\n",
        "- En lugar de dejar el modelo libre, debe configurar el escenario y los alcances en el mensaje proporcionando detalles de **qué, dónde, cuándo, por qué, quién y cómo**.\n",
        "- **Asignar una persona en el mensaje**, por ejemplo, \"Como profesor de computación, explica qué es el aprendizaje computacional\" en lugar de simplemente indicar \"Explica qué es el aprendizaje computacional\", esto hace que la respuesta sea más académica.\n",
        "- Puede controlar el estilo de salida solicitando \"explicarle a un niño de 5 años\", \"explicar con una analogía\", \"hacer una declaración convincente\" o **\"en 3 a 5 puntos\"**.\n",
        "- Para alentar al modelo a responder con una cadena de pensamientos (**Chain of thoughts**), finalice su solicitud con \"resuelva esto en pasos\".\n",
        "- Puede proporcionar **información adicional** al modelo diciendo: \"Referencia a la siguiente información\", seguido del material en el que desea que trabaje el modelo.\n",
        "- Es esencial hacer que la indicación sea sencilla y fácil de entender, ya que el contexto deducido puede ser más preciso para reflejar su intención.\n",
        "\n"
      ],
      "metadata": {
        "id": "chngAwqi1aUF"
      }
    },
    {
      "cell_type": "markdown",
      "source": [
        "**Para utilizarla como herramienta de aprendizaje**"
      ],
      "metadata": {
        "id": "9-C9WaYx2SmQ"
      }
    },
    {
      "cell_type": "markdown",
      "source": [
        "- Indique claramente sus objetivos de aprendizaje y sea específico. Por ejemplo, en lugar de colocar \"Explicar el preprocesamiento de datos\" puede limitar el alcance y preguntar: \"¿Puede describir el proceso de selección de funciones en el preprocesamiento de datos?\"\n",
        "- Haga preguntas de seguimiento para obtener más aclaraciones. Puede solicitar ejemplos adicionales o explicaciones paso a paso para comprender mejor los conceptos.\n",
        "- En lugar de una conversación de consulta unilateral, cree una conversación interactiva con el LLM, lo que le permitirá adaptar las respuestas a sus necesidades específicas.\n",
        "- Para cerrar la brecha entre la teoría y la práctica, solicite al LLM ejemplos prácticos y casos de uso.\n",
        "Solicite comentarios y posibles mejoras, ya que facilita la mejora continua.\n"
      ],
      "metadata": {
        "id": "IvkmE0IF2ay5"
      }
    },
    {
      "cell_type": "markdown",
      "source": [
        "Ejemplo:\n",
        "\n",
        "\"Quiero que actúes como mi profesor de Python en colegio secundario. Realiza mi entrevista para el puesto de desarrollador aprendiz en Python. Hágame una serie de preguntas para evaluar mis conocimientos y habilidades en programación y proporcione comentarios sobre mis respuestas a menos que le pida que se detenga.\"\n",
        "\n"
      ],
      "metadata": {
        "id": "2moeSJTX4ccd"
      }
    },
    {
      "cell_type": "markdown",
      "source": [
        " - Hacer las pruebas en ChatGPT (https://chatgpt.com/)\n",
        " - Hacer las pruebas en Claude (https://claude.ai/)"
      ],
      "metadata": {
        "id": "dOPZPa39Lhro"
      }
    }
  ]
}